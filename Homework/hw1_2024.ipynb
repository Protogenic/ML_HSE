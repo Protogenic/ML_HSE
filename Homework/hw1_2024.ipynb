{
 "cells": [
  {
   "cell_type": "markdown",
   "metadata": {},
   "source": [
    "# HSE 2024: Mathematical Methods for Data Analysis\n",
    "\n",
    "## Homework 1"
   ]
  },
  {
   "cell_type": "markdown",
   "metadata": {},
   "source": [
    "### Attention!\n",
    "* For tasks where <ins>text answer</ins> is required **Russian language** is **allowed**.\n",
    "* If a task asks you to describe something (make coclusions) then **text answer** is **mandatory** and **is** part of the task\n",
    "* **Do not** upload the dataset (titanic.csv) to the grading system (we already have it)\n",
    "* We **only** accept **ipynb** notebooks. If you use Google Colab then you'll have to download the notebook before passing the homework\n",
    "* **Do not** use python loops instead of NumPy vector operations over NumPy vectors - it significantly decreases performance (see why https://blog.paperspace.com/numpy-optimization-vectorization-and-broadcasting/), will be punished with -0.25 for **every** task. \n",
    "Loops are only allowed in part 1 (Tasks 1 - 4). \n",
    "* Some tasks contain tests. They only test you solution on a simple example, thus, passing the test does **not** guarantee you the full grade for the task. "
   ]
  },
  {
   "cell_type": "code",
   "execution_count": 2,
   "metadata": {},
   "outputs": [],
   "source": [
    "%matplotlib inline\n",
    "import numpy as np\n",
    "import pandas as pd\n",
    "import matplotlib.pyplot as plt\n",
    "import seaborn as sns"
   ]
  },
  {
   "cell_type": "markdown",
   "metadata": {},
   "source": [
    "# 1. Python (2 points) "
   ]
  },
  {
   "cell_type": "markdown",
   "metadata": {},
   "source": [
    "**Task 1** (0.5 points)<br/> \n",
    "Enter nonzero numbers `a`,  `r` and `N`. Find the first `N` members of geometric progression with the first member `a` and factor `r`, without using formula for the product."
   ]
  },
  {
   "cell_type": "code",
   "execution_count": 3,
   "metadata": {},
   "outputs": [
    {
     "name": "stdout",
     "output_type": "stream",
     "text": [
      "[2, 6, 18]\n"
     ]
    }
   ],
   "source": [
    "def find_product(a,r,N):\n",
    "    arr_product = [a]\n",
    "    for i in range(N-1):\n",
    "        arr_product.append(arr_product[-1]*r)\n",
    "    return arr_product\n",
    "\n",
    "a = 2\n",
    "r = 3\n",
    "N = 3\n",
    "print(find_product(a,r,N))"
   ]
  },
  {
   "cell_type": "markdown",
   "metadata": {},
   "source": [
    "**Task 2** (0.5 points) <br/> \n",
    "Enter an integer number `N`. Check if it is a palindrome number. It means that it can be read equally from left to right and from right to back. "
   ]
  },
  {
   "cell_type": "code",
   "execution_count": 4,
   "metadata": {},
   "outputs": [
    {
     "name": "stdout",
     "output_type": "stream",
     "text": [
      "3 True\n",
      "81 False\n",
      "111 True\n",
      "113 False\n",
      "810 False\n",
      "2022 False\n",
      "4774 True\n",
      "51315 True\n",
      "611816 False\n"
     ]
    }
   ],
   "source": [
    "def check_palindrome(N):\n",
    "    check_palindrome = (str(N) == str(N)[::-1])\n",
    "    return check_palindrome\n",
    "\n",
    "for N in [3, 81, 111, 113, 810, 2022, 4774, 51315, 611816]:\n",
    "    print(N, check_palindrome(N))"
   ]
  },
  {
   "cell_type": "markdown",
   "metadata": {},
   "source": [
    "**Task 3** (0.5 points) <br/> \n",
    "Find the first `N` palindrome numbers starting from 1000 (you may use the function from the precious task)."
   ]
  },
  {
   "cell_type": "code",
   "execution_count": 5,
   "metadata": {},
   "outputs": [
    {
     "name": "stdout",
     "output_type": "stream",
     "text": [
      "[1001, 1111, 1221, 1331, 1441]\n",
      "[1001, 1111, 1221, 1331, 1441, 1551, 1661, 1771, 1881, 1991]\n",
      "[1001, 1111, 1221, 1331, 1441, 1551, 1661, 1771, 1881, 1991, 2002, 2112, 2222, 2332, 2442, 2552, 2662, 2772, 2882, 2992]\n"
     ]
    }
   ],
   "source": [
    "def find_palindromes(N):\n",
    "    palindromes = []\n",
    "    n = 1000\n",
    "    while(True):\n",
    "        if check_palindrome(n):\n",
    "            palindromes.append(n)\n",
    "            if len(palindromes) == N:\n",
    "                break\n",
    "        n += 1\n",
    "    return palindromes\n",
    "\n",
    "print(find_palindromes(5))\n",
    "print(find_palindromes(10))\n",
    "print(find_palindromes(20))"
   ]
  },
  {
   "cell_type": "markdown",
   "metadata": {},
   "source": [
    "**Task 4** (0.5 points) <br/> \n",
    "There are numbers: `a`, `b`, `c`. Without using functions `min`, `max` and other functions, find the minimum number."
   ]
  },
  {
   "cell_type": "code",
   "execution_count": 6,
   "metadata": {},
   "outputs": [
    {
     "name": "stdout",
     "output_type": "stream",
     "text": [
      "-29 -23 -7 \tMinimum: -29\n",
      "-80 67 -57 \tMinimum: -80\n",
      "-20 24 21 \tMinimum: -20\n",
      "-91 -90 -11 \tMinimum: -91\n",
      "-96 -76 -23 \tMinimum: -96\n",
      "20 -39 -7 \tMinimum: -39\n",
      "97 -42 -57 \tMinimum: -57\n",
      "-83 -6 -32 \tMinimum: -83\n",
      "29 -12 52 \tMinimum: -12\n",
      "82 -61 92 \tMinimum: -61\n"
     ]
    }
   ],
   "source": [
    "from random import randint\n",
    "def find_min(a, b, c):\n",
    "    min_ = a\n",
    "    if b < min_:\n",
    "        min_ = b\n",
    "    if c < min_:\n",
    "        min_ = c\n",
    "    return min_\n",
    "\n",
    "for i in range(10):\n",
    "    \n",
    "    a = randint(-100, 100)\n",
    "    b = randint(-100, 100)\n",
    "    c = randint(-100, 100)\n",
    "    \n",
    "    print(a, b, c, '\\tMinimum:', find_min(a, b, c))"
   ]
  },
  {
   "cell_type": "markdown",
   "metadata": {},
   "source": [
    "# 2. Numpy (4 points)"
   ]
  },
  {
   "cell_type": "markdown",
   "metadata": {},
   "source": [
    "**Task 1** (0.5 points) <br/>\n",
    "Create a random array (`np.random.rand()`) with length of 17 and with sum of its elements equals to 6."
   ]
  },
  {
   "cell_type": "code",
   "execution_count": 7,
   "metadata": {},
   "outputs": [
    {
     "name": "stdout",
     "output_type": "stream",
     "text": [
      "Length: 17\n",
      "Sum of elements: 6.0\n"
     ]
    }
   ],
   "source": [
    "my_array = np.random.rand(16)\n",
    "my_array = np.append(my_array, 6 - my_array.sum())\n",
    "print(f'Length: {len(my_array)}')\n",
    "print(f'Sum of elements: {np.sum(my_array)}')"
   ]
  },
  {
   "cell_type": "markdown",
   "metadata": {},
   "source": [
    "**Task 2** (0.5 points) <br/>\n",
    "Create two random arrays $a$ and $b$ with the same length. \n",
    "\n",
    "Calculate the following distances between the arrays **without using special funcrion. You may only use basic numpy operations (`np.linalg.*` and other high-level ones are prohibited).**:\n",
    "\n",
    "* Manhattan Distance\n",
    "$$ d(a, b) = \\sum_i |a_i - b_i| $$\n",
    "* Euclidean Distance\n",
    "$$ d(a, b) = \\sqrt{\\sum_i (a_i - b_i)^2} $$\n",
    "* Chebyshev Distance\n",
    "$$ d(a, b) = \\underset{i}{max} |a_i - b_i| $$\n",
    "* Cosine Distance\n",
    "$$ d(a, b) = 1 - \\frac{a^\\top b}{||a||_2\\cdot||b||_2} $$\n"
   ]
  },
  {
   "cell_type": "code",
   "execution_count": 8,
   "metadata": {},
   "outputs": [],
   "source": [
    "def calculate_manhattan(a, b):    \n",
    "    distance = np.sum(np.abs(a-b))\n",
    "    return distance\n",
    "\n",
    "def calculate_euclidean(a, b):    \n",
    "    distance = np.sqrt(np.square(a-b).sum())\n",
    "    return distance\n",
    "\n",
    "def calculate_chebyshev(a, b):    \n",
    "    distance = np.absolute(a-b).max()\n",
    "    return distance\n",
    "\n",
    "def calculate_cosine(a, b):    \n",
    "    distance = 1 - np.dot(a, b)/(np.sqrt(np.square(a).sum())*np.sqrt(np.square(b).sum()))\n",
    "    return distance"
   ]
  },
  {
   "cell_type": "code",
   "execution_count": 9,
   "metadata": {},
   "outputs": [
    {
     "name": "stdout",
     "output_type": "stream",
     "text": [
      "Manhattan distance: 1.7238572285815037\n",
      "Euclidean distance: 0.8711231111871337\n",
      "Chebyshev distance: 0.5474454308030219\n",
      "Cosine distance: 0.29654160193510704\n"
     ]
    }
   ],
   "source": [
    "a = np.random.rand(5)\n",
    "b = np.random.rand(5)\n",
    "print(f'Manhattan distance: {calculate_manhattan(a, b)}')\n",
    "print(f'Euclidean distance: {calculate_euclidean(a, b)}')\n",
    "print(f'Chebyshev distance: {calculate_chebyshev(a, b)}')\n",
    "print(f'Cosine distance: {calculate_cosine(a, b)}')"
   ]
  },
  {
   "cell_type": "markdown",
   "metadata": {},
   "source": [
    "**Task 3** (0.5 points) <br/>\n",
    "Create a random array (`np.random.randint()`) with length of 76. Transform the array so that \n",
    "* Maximum element(s) value is -1\n",
    "* Minimum element(s) value is -4\n",
    "* Other values are in interval (-4; -1) with keeping the order"
   ]
  },
  {
   "cell_type": "code",
   "execution_count": 10,
   "metadata": {},
   "outputs": [],
   "source": [
    "def transform(array):\n",
    "    x1 = np.min(array)\n",
    "    x2 = np.max(array)\n",
    "    array = array*(3/(x2-x1)) - (4 + 3*x1/(x2-x1))\n",
    "    return array"
   ]
  },
  {
   "cell_type": "code",
   "execution_count": 11,
   "metadata": {},
   "outputs": [
    {
     "name": "stdout",
     "output_type": "stream",
     "text": [
      "Min: -4.0\n",
      "Max: -1.0\n",
      "Array:\n",
      "[-2.984      -3.552      -2.05333333 -1.01066667 -2.40266667 -2.17866667\n",
      " -3.74133333 -1.57333333 -3.86133333 -3.392      -3.096      -1.40266667\n",
      " -1.         -2.60266667 -2.408      -3.15466667 -1.96       -2.99733333\n",
      " -2.43466667 -3.93866667 -3.73066667 -3.65333333 -2.168      -3.87733333\n",
      " -3.28533333 -2.43733333 -1.65866667 -1.63466667 -1.656      -3.952\n",
      " -1.64266667 -2.29066667 -1.544      -3.98933333 -2.608      -2.22133333\n",
      " -2.448      -1.90133333 -1.176      -2.12       -1.02133333 -2.824\n",
      " -1.81866667 -3.75733333 -1.088      -2.89333333 -2.664      -2.42666667\n",
      " -2.224      -1.896      -2.76266667 -2.67466667 -1.70133333 -2.27466667\n",
      " -2.30933333 -2.54666667 -3.42133333 -3.192      -3.58133333 -3.144\n",
      " -2.112      -3.50666667 -1.69066667 -4.         -3.696      -3.33333333\n",
      " -2.83733333 -3.41866667 -1.29333333 -3.776      -3.54133333 -1.67466667\n",
      " -3.768      -2.552      -2.19733333 -2.69866667]\n"
     ]
    }
   ],
   "source": [
    "my_array = np.random.randint(-147, 1001, size=76) #any range works\n",
    "my_array = transform(my_array)\n",
    "print(f'Min: {np.min(my_array)}')\n",
    "print(f'Max: {np.max(my_array)}')\n",
    "print('Array:')\n",
    "print(my_array)"
   ]
  },
  {
   "cell_type": "markdown",
   "metadata": {},
   "source": [
    "**Task 4** (0.5 points) <br/>\n",
    "Create an array with shape of $8 \\times 5$ with integers from [-7, 43]. Print a column that contains the maximum element of the array."
   ]
  },
  {
   "cell_type": "code",
   "execution_count": 12,
   "metadata": {},
   "outputs": [
    {
     "name": "stdout",
     "output_type": "stream",
     "text": [
      "Shape:  (8, 5)\n",
      "Array:\n",
      "[[41 14 20 37 13]\n",
      " [11 31 13 -6 42]\n",
      " [ 2 20  2 42 25]\n",
      " [41 30  4 14 17]\n",
      " [33 28 -5 41 23]\n",
      " [22 28 40 29  5]\n",
      " [25 23 31 31 33]\n",
      " [40 40 28 20 40]]\n",
      "Selected column: 4\n"
     ]
    }
   ],
   "source": [
    "my_array = np.random.randint(-7, 44, (8, 5))\n",
    "selected_column = np.argmax(my_array)%5\n",
    "print('Shape: ', my_array.shape)\n",
    "print('Array:')\n",
    "print(my_array)\n",
    "print(f'Selected column: {selected_column}')"
   ]
  },
  {
   "cell_type": "markdown",
   "metadata": {},
   "source": [
    "**Task 5** (0.5 points) <br/>\n",
    "\n",
    "Replace all missing values in the following array with median."
   ]
  },
  {
   "cell_type": "code",
   "execution_count": 13,
   "metadata": {},
   "outputs": [
    {
     "name": "stdout",
     "output_type": "stream",
     "text": [
      "Array:\n",
      "[0.55034516 0.15785966        nan        nan        nan 0.69599254\n",
      " 0.60820952 0.21100531 0.32411595        nan]\n"
     ]
    }
   ],
   "source": [
    "arr = np.random.rand(10)\n",
    "idx = np.random.randint(0, 10, 4)\n",
    "arr[idx] = np.nan\n",
    "\n",
    "print('Array:')\n",
    "print(arr)"
   ]
  },
  {
   "cell_type": "code",
   "execution_count": 14,
   "metadata": {},
   "outputs": [],
   "source": [
    "def replace_missing(arr):\n",
    "    arr[np.where(np.isnan(arr))] = np.nanmedian(arr)\n",
    "    return arr"
   ]
  },
  {
   "cell_type": "code",
   "execution_count": 15,
   "metadata": {},
   "outputs": [
    {
     "name": "stdout",
     "output_type": "stream",
     "text": [
      "Array with no missing values:\n",
      "[0.55034516 0.15785966 0.43723056 0.43723056 0.43723056 0.69599254\n",
      " 0.60820952 0.21100531 0.32411595 0.43723056]\n"
     ]
    }
   ],
   "source": [
    "arr = replace_missing(arr)\n",
    "print('Array with no missing values:')\n",
    "print(arr)"
   ]
  },
  {
   "cell_type": "markdown",
   "metadata": {},
   "source": [
    "**Task 6** (0.5 points) <br/>\n",
    "Create a function which takes an image ```X``` (3D array of the shape (n, m, 3)) as an input and returns the mean for all 3 channels (a vector of shape 3)."
   ]
  },
  {
   "cell_type": "code",
   "execution_count": 16,
   "metadata": {},
   "outputs": [],
   "source": [
    "def mean_channel(X):\n",
    "    mean_vector = np.mean(X, axis=(0, 1))\n",
    "    return mean_vector"
   ]
  },
  {
   "cell_type": "code",
   "execution_count": 17,
   "metadata": {},
   "outputs": [
    {
     "name": "stdout",
     "output_type": "stream",
     "text": [
      "Vector of means: [-1.98398169 -1.83981693 -1.93135011]\n"
     ]
    }
   ],
   "source": [
    "n = 19\n",
    "m = 23\n",
    "X =  np.random.randint(-11, 8, size=(n, m, 3))\n",
    "print(f'Vector of means: {mean_channel(X)}')"
   ]
  },
  {
   "cell_type": "markdown",
   "metadata": {},
   "source": [
    "### **Task 7** (1 points) <br/>\n",
    "Create a function which takes a 3D matrix ```X``` as an input and returns all its unique vertical (first axis) layers.\n",
    "\n",
    "Sample input:\n",
    "\n",
    "     ([[[1, 2, 3],\n",
    "        [1, 2, 3],\n",
    "        [1, 2, 3]],\n",
    "\n",
    "       [[4, 5, 6],\n",
    "        [4, 5, 7]\n",
    "        [4, 5, 6]],\n",
    "\n",
    "       [[7, 8, 9],\n",
    "        [7, 8, 9]\n",
    "        [7, 8, 9]]])\n",
    "        \n",
    "Sample output:\n",
    "\n",
    "     ([[[1, 2, 3],\n",
    "        [1, 2, 3]],\n",
    "\n",
    "       [[4, 5, 6],\n",
    "        [4, 5, 7]],\n",
    "\n",
    "       [[7, 8, 9],\n",
    "        [7, 8, 9]]])"
   ]
  },
  {
   "cell_type": "code",
   "execution_count": 18,
   "metadata": {},
   "outputs": [],
   "source": [
    "def get_unique_columns(X):\n",
    "    X_unique = np.unique(X, axis = 1)\n",
    "    return X_unique"
   ]
  },
  {
   "cell_type": "code",
   "execution_count": 19,
   "metadata": {},
   "outputs": [
    {
     "name": "stdout",
     "output_type": "stream",
     "text": [
      "Matrix:\n",
      "[[[4 4 5]\n",
      "  [5 4 5]\n",
      "  [5 5 5]]\n",
      "\n",
      " [[4 5 5]\n",
      "  [5 4 4]\n",
      "  [4 5 4]]\n",
      "\n",
      " [[5 4 4]\n",
      "  [4 5 4]\n",
      "  [5 5 4]]\n",
      "\n",
      " [[5 5 5]\n",
      "  [5 5 4]\n",
      "  [5 5 5]]\n",
      "\n",
      " [[4 5 5]\n",
      "  [5 4 5]\n",
      "  [4 4 5]]\n",
      "\n",
      " [[4 4 4]\n",
      "  [4 4 4]\n",
      "  [5 4 5]]\n",
      "\n",
      " [[5 4 4]\n",
      "  [4 5 5]\n",
      "  [4 5 4]]\n",
      "\n",
      " [[5 4 5]\n",
      "  [4 5 4]\n",
      "  [4 4 5]]\n",
      "\n",
      " [[5 5 5]\n",
      "  [5 4 5]\n",
      "  [5 5 5]]\n",
      "\n",
      " [[5 5 4]\n",
      "  [5 5 5]\n",
      "  [5 4 5]]\n",
      "\n",
      " [[5 5 4]\n",
      "  [4 5 5]\n",
      "  [5 4 5]]\n",
      "\n",
      " [[5 5 5]\n",
      "  [5 5 4]\n",
      "  [4 4 5]]\n",
      "\n",
      " [[4 4 4]\n",
      "  [4 5 4]\n",
      "  [4 5 5]]\n",
      "\n",
      " [[5 4 5]\n",
      "  [5 4 4]\n",
      "  [5 5 4]]\n",
      "\n",
      " [[4 5 5]\n",
      "  [5 5 5]\n",
      "  [4 5 5]]\n",
      "\n",
      " [[4 4 4]\n",
      "  [4 4 5]\n",
      "  [4 4 5]]\n",
      "\n",
      " [[5 4 4]\n",
      "  [5 5 4]\n",
      "  [5 4 5]]\n",
      "\n",
      " [[5 4 4]\n",
      "  [5 4 5]\n",
      "  [5 5 5]]\n",
      "\n",
      " [[4 5 5]\n",
      "  [5 4 4]\n",
      "  [4 4 4]]]\n",
      "Unique columns:\n"
     ]
    },
    {
     "data": {
      "text/plain": [
       "array([[[4, 4, 5],\n",
       "        [5, 4, 5],\n",
       "        [5, 5, 5]],\n",
       "\n",
       "       [[4, 5, 5],\n",
       "        [5, 4, 4],\n",
       "        [4, 5, 4]],\n",
       "\n",
       "       [[5, 4, 4],\n",
       "        [4, 5, 4],\n",
       "        [5, 5, 4]],\n",
       "\n",
       "       [[5, 5, 5],\n",
       "        [5, 5, 4],\n",
       "        [5, 5, 5]],\n",
       "\n",
       "       [[4, 5, 5],\n",
       "        [5, 4, 5],\n",
       "        [4, 4, 5]],\n",
       "\n",
       "       [[4, 4, 4],\n",
       "        [4, 4, 4],\n",
       "        [5, 4, 5]],\n",
       "\n",
       "       [[5, 4, 4],\n",
       "        [4, 5, 5],\n",
       "        [4, 5, 4]],\n",
       "\n",
       "       [[5, 4, 5],\n",
       "        [4, 5, 4],\n",
       "        [4, 4, 5]],\n",
       "\n",
       "       [[5, 5, 5],\n",
       "        [5, 4, 5],\n",
       "        [5, 5, 5]],\n",
       "\n",
       "       [[5, 5, 4],\n",
       "        [5, 5, 5],\n",
       "        [5, 4, 5]],\n",
       "\n",
       "       [[5, 5, 4],\n",
       "        [4, 5, 5],\n",
       "        [5, 4, 5]],\n",
       "\n",
       "       [[5, 5, 5],\n",
       "        [5, 5, 4],\n",
       "        [4, 4, 5]],\n",
       "\n",
       "       [[4, 4, 4],\n",
       "        [4, 5, 4],\n",
       "        [4, 5, 5]],\n",
       "\n",
       "       [[5, 4, 5],\n",
       "        [5, 4, 4],\n",
       "        [5, 5, 4]],\n",
       "\n",
       "       [[4, 5, 5],\n",
       "        [5, 5, 5],\n",
       "        [4, 5, 5]],\n",
       "\n",
       "       [[4, 4, 4],\n",
       "        [4, 4, 5],\n",
       "        [4, 4, 5]],\n",
       "\n",
       "       [[5, 4, 4],\n",
       "        [5, 5, 4],\n",
       "        [5, 4, 5]],\n",
       "\n",
       "       [[5, 4, 4],\n",
       "        [5, 4, 5],\n",
       "        [5, 5, 5]],\n",
       "\n",
       "       [[4, 5, 5],\n",
       "        [5, 4, 4],\n",
       "        [4, 4, 4]]])"
      ]
     },
     "execution_count": 19,
     "metadata": {},
     "output_type": "execute_result"
    }
   ],
   "source": [
    "X =  np.random.randint(4, 6, size=(n, 3, 3))\n",
    "print('Matrix:')\n",
    "print(X)\n",
    "print('Unique columns:')\n",
    "get_unique_columns(X)"
   ]
  },
  {
   "cell_type": "markdown",
   "metadata": {},
   "source": [
    "# 3. Pandas & Visualization (4 points)\n"
   ]
  },
  {
   "cell_type": "markdown",
   "metadata": {},
   "source": [
    "You are going to work with *Titanic* dataset which contains information about passengers of Titanic:\n",
    "- **Survived** - 1 - survived, 0 - died (0); **Target variable**\n",
    "- **pclass** - passengers's class;\n",
    "- **sex** - passengers's sex\n",
    "- **Age** - passengers's age in years\n",
    "- **sibsp**    - is the passenger someones siblings   \n",
    "- **parch**    - is the passenger someones child or parent\n",
    "- **ticket** - ticket number    \n",
    "- **fare** - ticket price    \n",
    "- **cabin** - cabin number\n",
    "- **embarked** - port of Embarkation; C = Cherbourg, Q = Queenstown, S = Southampton\n",
    "\n",
    "**Note** for all visualizations use matplotlib or seaborn but NOT plotly! Plotly's graphics sometimes vanish after saving. In this case the task wont't be graded.\n",
    "\n",
    "**Note** support all your answers with necessary code, computations, vizualization, and explanation. Answers without code and explanation won't be graded.\n",
    "\n",
    "**Task 0** (0 points) \\\n",
    "Load the dataset and print first 5 rows"
   ]
  },
  {
   "cell_type": "code",
   "execution_count": 20,
   "metadata": {},
   "outputs": [
    {
     "data": {
      "text/html": [
       "<div>\n",
       "<style scoped>\n",
       "    .dataframe tbody tr th:only-of-type {\n",
       "        vertical-align: middle;\n",
       "    }\n",
       "\n",
       "    .dataframe tbody tr th {\n",
       "        vertical-align: top;\n",
       "    }\n",
       "\n",
       "    .dataframe thead th {\n",
       "        text-align: right;\n",
       "    }\n",
       "</style>\n",
       "<table border=\"1\" class=\"dataframe\">\n",
       "  <thead>\n",
       "    <tr style=\"text-align: right;\">\n",
       "      <th></th>\n",
       "      <th>PassengerId</th>\n",
       "      <th>Survived</th>\n",
       "      <th>Pclass</th>\n",
       "      <th>Name</th>\n",
       "      <th>Sex</th>\n",
       "      <th>Age</th>\n",
       "      <th>SibSp</th>\n",
       "      <th>Parch</th>\n",
       "      <th>Ticket</th>\n",
       "      <th>Fare</th>\n",
       "      <th>Cabin</th>\n",
       "      <th>Embarked</th>\n",
       "    </tr>\n",
       "  </thead>\n",
       "  <tbody>\n",
       "    <tr>\n",
       "      <th>0</th>\n",
       "      <td>1</td>\n",
       "      <td>0</td>\n",
       "      <td>3</td>\n",
       "      <td>Braund, Mr. Owen Harris</td>\n",
       "      <td>male</td>\n",
       "      <td>22.0</td>\n",
       "      <td>1</td>\n",
       "      <td>0</td>\n",
       "      <td>A/5 21171</td>\n",
       "      <td>7.2500</td>\n",
       "      <td>NaN</td>\n",
       "      <td>S</td>\n",
       "    </tr>\n",
       "    <tr>\n",
       "      <th>1</th>\n",
       "      <td>2</td>\n",
       "      <td>1</td>\n",
       "      <td>1</td>\n",
       "      <td>Cumings, Mrs. John Bradley (Florence Briggs Th...</td>\n",
       "      <td>female</td>\n",
       "      <td>38.0</td>\n",
       "      <td>1</td>\n",
       "      <td>0</td>\n",
       "      <td>PC 17599</td>\n",
       "      <td>71.2833</td>\n",
       "      <td>C85</td>\n",
       "      <td>C</td>\n",
       "    </tr>\n",
       "    <tr>\n",
       "      <th>2</th>\n",
       "      <td>3</td>\n",
       "      <td>1</td>\n",
       "      <td>3</td>\n",
       "      <td>Heikkinen, Miss. Laina</td>\n",
       "      <td>female</td>\n",
       "      <td>26.0</td>\n",
       "      <td>0</td>\n",
       "      <td>0</td>\n",
       "      <td>STON/O2. 3101282</td>\n",
       "      <td>7.9250</td>\n",
       "      <td>NaN</td>\n",
       "      <td>S</td>\n",
       "    </tr>\n",
       "    <tr>\n",
       "      <th>3</th>\n",
       "      <td>4</td>\n",
       "      <td>1</td>\n",
       "      <td>1</td>\n",
       "      <td>Futrelle, Mrs. Jacques Heath (Lily May Peel)</td>\n",
       "      <td>female</td>\n",
       "      <td>35.0</td>\n",
       "      <td>1</td>\n",
       "      <td>0</td>\n",
       "      <td>113803</td>\n",
       "      <td>53.1000</td>\n",
       "      <td>C123</td>\n",
       "      <td>S</td>\n",
       "    </tr>\n",
       "    <tr>\n",
       "      <th>4</th>\n",
       "      <td>5</td>\n",
       "      <td>0</td>\n",
       "      <td>3</td>\n",
       "      <td>Allen, Mr. William Henry</td>\n",
       "      <td>male</td>\n",
       "      <td>35.0</td>\n",
       "      <td>0</td>\n",
       "      <td>0</td>\n",
       "      <td>373450</td>\n",
       "      <td>8.0500</td>\n",
       "      <td>NaN</td>\n",
       "      <td>S</td>\n",
       "    </tr>\n",
       "  </tbody>\n",
       "</table>\n",
       "</div>"
      ],
      "text/plain": [
       "   PassengerId  Survived  Pclass  \\\n",
       "0            1         0       3   \n",
       "1            2         1       1   \n",
       "2            3         1       3   \n",
       "3            4         1       1   \n",
       "4            5         0       3   \n",
       "\n",
       "                                                Name     Sex   Age  SibSp  \\\n",
       "0                            Braund, Mr. Owen Harris    male  22.0      1   \n",
       "1  Cumings, Mrs. John Bradley (Florence Briggs Th...  female  38.0      1   \n",
       "2                             Heikkinen, Miss. Laina  female  26.0      0   \n",
       "3       Futrelle, Mrs. Jacques Heath (Lily May Peel)  female  35.0      1   \n",
       "4                           Allen, Mr. William Henry    male  35.0      0   \n",
       "\n",
       "   Parch            Ticket     Fare Cabin Embarked  \n",
       "0      0         A/5 21171   7.2500   NaN        S  \n",
       "1      0          PC 17599  71.2833   C85        C  \n",
       "2      0  STON/O2. 3101282   7.9250   NaN        S  \n",
       "3      0            113803  53.1000  C123        S  \n",
       "4      0            373450   8.0500   NaN        S  "
      ]
     },
     "execution_count": 20,
     "metadata": {},
     "output_type": "execute_result"
    }
   ],
   "source": [
    "dataset =  pd.read_csv('titanic.csv')\n",
    "dataset.head()"
   ]
  },
  {
   "cell_type": "markdown",
   "metadata": {},
   "source": [
    "**Task 1** (1 points) <br/>\n",
    "Answer the following questions:\n",
    "    \n",
    "    * Are there any missing values? In what columns?\n",
    "    * What is the percentage of survived passengers? Are the classes balanced?\n",
    "    * Were there more males or females?\n",
    "    * What what the least popular port of embarkation?\n",
    "    * How many classes (pclass) were there on Tinanic?\n",
    "    * What is the overall average ticket fare? And for every class?\n",
    "Please, write not only the answers but the code, proving it."
   ]
  },
  {
   "cell_type": "code",
   "execution_count": 21,
   "metadata": {},
   "outputs": [
    {
     "data": {
      "text/plain": [
       "PassengerId    False\n",
       "Survived       False\n",
       "Pclass         False\n",
       "Name           False\n",
       "Sex            False\n",
       "Age             True\n",
       "SibSp          False\n",
       "Parch          False\n",
       "Ticket         False\n",
       "Fare           False\n",
       "Cabin           True\n",
       "Embarked        True\n",
       "dtype: bool"
      ]
     },
     "execution_count": 21,
     "metadata": {},
     "output_type": "execute_result"
    }
   ],
   "source": [
    "## Are there any missing values? (YES)\n",
    "## In what columns? (Age, Cabin, Embarked)\n",
    "dataset.isnull().any()"
   ]
  },
  {
   "cell_type": "code",
   "execution_count": 22,
   "metadata": {},
   "outputs": [
    {
     "data": {
      "text/plain": [
       "38.38383838383838"
      ]
     },
     "execution_count": 22,
     "metadata": {},
     "output_type": "execute_result"
    }
   ],
   "source": [
    "## What is the percentage of survived passengers? (38.(38)%)\n",
    "survived = dataset[dataset['Survived'] == 1]\n",
    "survived_percentage = len(survived)/len(dataset)*100\n",
    "survived_percentage"
   ]
  },
  {
   "cell_type": "code",
   "execution_count": 23,
   "metadata": {},
   "outputs": [
    {
     "data": {
      "text/plain": [
       "Pclass\n",
       "1    0.629630\n",
       "2    0.472826\n",
       "3    0.242363\n",
       "Name: Survived, dtype: float64"
      ]
     },
     "execution_count": 23,
     "metadata": {},
     "output_type": "execute_result"
    }
   ],
   "source": [
    "## Are the classes balanced? (NO, survival rate vary depending on the class)\n",
    "## Pclass\n",
    "## 1    0.629630\n",
    "## 2    0.472826\n",
    "## 3    0.242363\n",
    "survived_grouped = survived.groupby('Pclass').sum()\n",
    "grouped = dataset.groupby('Pclass').count()\n",
    "survived_grouped['Survived']/grouped['Survived']"
   ]
  },
  {
   "cell_type": "code",
   "execution_count": 24,
   "metadata": {},
   "outputs": [
    {
     "data": {
      "text/html": [
       "<div>\n",
       "<style scoped>\n",
       "    .dataframe tbody tr th:only-of-type {\n",
       "        vertical-align: middle;\n",
       "    }\n",
       "\n",
       "    .dataframe tbody tr th {\n",
       "        vertical-align: top;\n",
       "    }\n",
       "\n",
       "    .dataframe thead th {\n",
       "        text-align: right;\n",
       "    }\n",
       "</style>\n",
       "<table border=\"1\" class=\"dataframe\">\n",
       "  <thead>\n",
       "    <tr style=\"text-align: right;\">\n",
       "      <th></th>\n",
       "      <th>PassengerId</th>\n",
       "      <th>Survived</th>\n",
       "      <th>Pclass</th>\n",
       "      <th>Name</th>\n",
       "      <th>Age</th>\n",
       "      <th>SibSp</th>\n",
       "      <th>Parch</th>\n",
       "      <th>Ticket</th>\n",
       "      <th>Fare</th>\n",
       "      <th>Cabin</th>\n",
       "      <th>Embarked</th>\n",
       "    </tr>\n",
       "    <tr>\n",
       "      <th>Sex</th>\n",
       "      <th></th>\n",
       "      <th></th>\n",
       "      <th></th>\n",
       "      <th></th>\n",
       "      <th></th>\n",
       "      <th></th>\n",
       "      <th></th>\n",
       "      <th></th>\n",
       "      <th></th>\n",
       "      <th></th>\n",
       "      <th></th>\n",
       "    </tr>\n",
       "  </thead>\n",
       "  <tbody>\n",
       "    <tr>\n",
       "      <th>female</th>\n",
       "      <td>314</td>\n",
       "      <td>314</td>\n",
       "      <td>314</td>\n",
       "      <td>314</td>\n",
       "      <td>261</td>\n",
       "      <td>314</td>\n",
       "      <td>314</td>\n",
       "      <td>314</td>\n",
       "      <td>314</td>\n",
       "      <td>97</td>\n",
       "      <td>312</td>\n",
       "    </tr>\n",
       "    <tr>\n",
       "      <th>male</th>\n",
       "      <td>577</td>\n",
       "      <td>577</td>\n",
       "      <td>577</td>\n",
       "      <td>577</td>\n",
       "      <td>453</td>\n",
       "      <td>577</td>\n",
       "      <td>577</td>\n",
       "      <td>577</td>\n",
       "      <td>577</td>\n",
       "      <td>107</td>\n",
       "      <td>577</td>\n",
       "    </tr>\n",
       "  </tbody>\n",
       "</table>\n",
       "</div>"
      ],
      "text/plain": [
       "        PassengerId  Survived  Pclass  Name  Age  SibSp  Parch  Ticket  Fare  \\\n",
       "Sex                                                                            \n",
       "female          314       314     314   314  261    314    314     314   314   \n",
       "male            577       577     577   577  453    577    577     577   577   \n",
       "\n",
       "        Cabin  Embarked  \n",
       "Sex                      \n",
       "female     97       312  \n",
       "male      107       577  "
      ]
     },
     "execution_count": 24,
     "metadata": {},
     "output_type": "execute_result"
    }
   ],
   "source": [
    "## Were there more males or females? (More males, 577 over 314)\n",
    "male_female = dataset.groupby('Sex').count()\n",
    "male_female"
   ]
  },
  {
   "cell_type": "code",
   "execution_count": 25,
   "metadata": {},
   "outputs": [
    {
     "data": {
      "text/plain": [
       "Embarked\n",
       "S    644\n",
       "C    168\n",
       "Q     77\n",
       "Name: count, dtype: int64"
      ]
     },
     "execution_count": 25,
     "metadata": {},
     "output_type": "execute_result"
    }
   ],
   "source": [
    "## What what the least popular port of embarkation? (Queenstown)\n",
    "dataset['Embarked'].value_counts().tail()"
   ]
  },
  {
   "cell_type": "code",
   "execution_count": 26,
   "metadata": {},
   "outputs": [
    {
     "data": {
      "text/plain": [
       "3"
      ]
     },
     "execution_count": 26,
     "metadata": {},
     "output_type": "execute_result"
    }
   ],
   "source": [
    "## How many classes (pclass) were there on Tinanic? (3)\n",
    "len(pd.unique(dataset['Pclass']))"
   ]
  },
  {
   "cell_type": "code",
   "execution_count": 27,
   "metadata": {},
   "outputs": [
    {
     "data": {
      "text/html": [
       "<div>\n",
       "<style scoped>\n",
       "    .dataframe tbody tr th:only-of-type {\n",
       "        vertical-align: middle;\n",
       "    }\n",
       "\n",
       "    .dataframe tbody tr th {\n",
       "        vertical-align: top;\n",
       "    }\n",
       "\n",
       "    .dataframe thead th {\n",
       "        text-align: right;\n",
       "    }\n",
       "</style>\n",
       "<table border=\"1\" class=\"dataframe\">\n",
       "  <thead>\n",
       "    <tr style=\"text-align: right;\">\n",
       "      <th></th>\n",
       "      <th>Fare</th>\n",
       "    </tr>\n",
       "    <tr>\n",
       "      <th>Pclass</th>\n",
       "      <th></th>\n",
       "    </tr>\n",
       "  </thead>\n",
       "  <tbody>\n",
       "    <tr>\n",
       "      <th>1</th>\n",
       "      <td>84.154687</td>\n",
       "    </tr>\n",
       "    <tr>\n",
       "      <th>2</th>\n",
       "      <td>20.662183</td>\n",
       "    </tr>\n",
       "    <tr>\n",
       "      <th>3</th>\n",
       "      <td>13.675550</td>\n",
       "    </tr>\n",
       "  </tbody>\n",
       "</table>\n",
       "</div>"
      ],
      "text/plain": [
       "             Fare\n",
       "Pclass           \n",
       "1       84.154687\n",
       "2       20.662183\n",
       "3       13.675550"
      ]
     },
     "execution_count": 27,
     "metadata": {},
     "output_type": "execute_result"
    }
   ],
   "source": [
    "## What is the overall average ticket fare? (32.2)\n",
    "## And for every class? \n",
    "## Pclass   Fare\n",
    "## 1        84.14\n",
    "## 2        20.66\n",
    "## 3        13.67\n",
    "average_fare = dataset['Fare'].mean()\n",
    "average_fare_by_class = dataset[['Pclass', 'Fare']].groupby('Pclass').mean()\n",
    "average_fare_by_class"
   ]
  },
  {
   "cell_type": "markdown",
   "metadata": {},
   "source": [
    "**Task 2** (0.5 points) <br/>\n",
    "Visualize age distribution (you may use a histogram, for example). \n",
    "\n",
    "    * What is the minimal and maximum ages of the passengers? Visualize it on the plot\n",
    "    * What is the mean age? And among males and females sepatately? Visualize it on the plot\n",
    "    * Make conclusions about what you see on the plot"
   ]
  },
  {
   "cell_type": "code",
   "execution_count": 28,
   "metadata": {},
   "outputs": [
    {
     "data": {
      "text/plain": [
       "<matplotlib.legend.Legend at 0x23bf12c26d0>"
      ]
     },
     "execution_count": 28,
     "metadata": {},
     "output_type": "execute_result"
    },
    {
     "data": {
      "image/png": "[encoded data removed]",
      "text/plain": [
       "<Figure size 900x500 with 1 Axes>"
      ]
     },
     "metadata": {},
     "output_type": "display_data"
    }
   ],
   "source": [
    "## What is the minimal and maximum ages of the passengers? (0.42; 80.0)\n",
    "\n",
    "## What is the mean age? (29.69)\n",
    "## And among males and females sepatately? (30.72 ;27.91)\n",
    "\n",
    "## Mode is larger than median and median is larger than mean, this distribution is right-skewed and unimodal.\n",
    "## The largest group of passengers was in the age category from 20 to 30. \n",
    "## It can also be noted that the children most of the children were between 0 and approximately 4 years old.\n",
    "\n",
    "plt.figure(figsize=(9,5))\n",
    "\n",
    "sns.histplot(data=dataset, x='Age')\n",
    "max_age = dataset['Age'].max()\n",
    "min_age = dataset['Age'].min()\n",
    "\n",
    "plt.axvline(x=min_age, color='b', linestyle=(0, (1, 10)), label='Minimal age')\n",
    "plt.axvline(x=max_age, color='r', linestyle=(0, (1, 10)), label='Maximum age')\n",
    "\n",
    "mean_age = dataset['Age'].mean(skipna=True)\n",
    "plt.axvline(x=mean_age, color='g', linestyle='solid', label='Mean age')\n",
    "\n",
    "mean_male_age = dataset[dataset['Sex'] == 'male']['Age'].mean()\n",
    "mean_female_age = dataset[dataset['Sex'] == 'female']['Age'].mean()\n",
    "plt.axvline(x=mean_male_age, color='c', linestyle='solid', label='Mean male age')\n",
    "plt.axvline(x=mean_female_age, color='m', linestyle='solid', label='Mean female age')\n",
    "\n",
    "plt.legend()\n"
   ]
  },
  {
   "cell_type": "markdown",
   "metadata": {},
   "source": [
    "**Task 3** (1 points) <br/>\n",
    "Find all the titles of the passengers (example, *Capt., Mr.,Mme.*), which are written in the column Name, and answer the following questions:\n",
    "\n",
    "    * How many are there unique titles?\n",
    "    * How many are there passengers with every title?\n",
    "    * What is the most popular man's title? And woman's title?\n",
    "    \n",
    "**Hint** You may select the title from the name as a word which contains a dot."
   ]
  },
  {
   "cell_type": "code",
   "execution_count": 29,
   "metadata": {},
   "outputs": [
    {
     "data": {
      "text/plain": [
       "17"
      ]
     },
     "execution_count": 29,
     "metadata": {},
     "output_type": "execute_result"
    }
   ],
   "source": [
    "## How many are there unique titles? (17)\n",
    "\n",
    "names = dataset['Name']\n",
    "titles = names.str.extract('([A-Za-z]+)\\.')\n",
    "titles = titles.iloc[:,0]\n",
    "\n",
    "len(titles.unique())"
   ]
  },
  {
   "cell_type": "code",
   "execution_count": 30,
   "metadata": {},
   "outputs": [
    {
     "data": {
      "text/plain": [
       "0\n",
       "Mr          517\n",
       "Miss        182\n",
       "Mrs         125\n",
       "Master       40\n",
       "Dr            7\n",
       "Rev           6\n",
       "Mlle          2\n",
       "Major         2\n",
       "Col           2\n",
       "Countess      1\n",
       "Capt          1\n",
       "Ms            1\n",
       "Sir           1\n",
       "Lady          1\n",
       "Mme           1\n",
       "Don           1\n",
       "Jonkheer      1\n",
       "Name: count, dtype: int64"
      ]
     },
     "execution_count": 30,
     "metadata": {},
     "output_type": "execute_result"
    }
   ],
   "source": [
    "## How many are there passengers with every title?\n",
    "## Mr          517\n",
    "## Miss        182\n",
    "## Mrs         125\n",
    "## Master       40\n",
    "## Dr            7\n",
    "## Rev           6\n",
    "## Mlle          2\n",
    "## Major         2\n",
    "## Col           2\n",
    "## Countess      1\n",
    "## Capt          1\n",
    "## Ms            1\n",
    "## Sir           1\n",
    "## Lady          1\n",
    "## Mme           1\n",
    "## Don           1\n",
    "## Jonkheer      1\n",
    "\n",
    "## What is the most popular man's title? (Mr, 517)\n",
    "## And woman's title? (Miss, 182)\n",
    "\n",
    "titles.value_counts()"
   ]
  },
  {
   "cell_type": "markdown",
   "metadata": {},
   "source": [
    "**Task 4** (0.5 points) <br/>\n",
    "Is there correlation between *pclass* and *ticket price*? Calculate mean price for each port and visualize prize distribution for each port. Make conclusions about what you see on the plot\n",
    "\n",
    "Hint: you could make one or several plot types i.e.  box, violine, pair, histogram (see additional notebooks for Seminar 1 \"Visualization with Seaborn\"). main point here is to **choose** plots wisely and **make meaningful conclusions**\n",
    "\n"
   ]
  },
  {
   "cell_type": "code",
   "execution_count": 31,
   "metadata": {},
   "outputs": [
    {
     "data": {
      "text/plain": [
       "-0.5494996199439082"
      ]
     },
     "execution_count": 31,
     "metadata": {},
     "output_type": "execute_result"
    }
   ],
   "source": [
    "## Is there correlation between pclass and ticket price? (Yes, quite strong correlation)\n",
    "dataset['Pclass'].corr(dataset['Fare'])"
   ]
  },
  {
   "cell_type": "code",
   "execution_count": 38,
   "metadata": {},
   "outputs": [
    {
     "data": {
      "text/plain": [
       "(-30.0, 120.0)"
      ]
     },
     "execution_count": 38,
     "metadata": {},
     "output_type": "execute_result"
    },
    {
     "data": {
      "image/png": "[encoded data removed]",
      "text/plain": [
       "<Figure size 640x480 with 1 Axes>"
      ]
     },
     "metadata": {},
     "output_type": "display_data"
    }
   ],
   "source": [
    "## Calculate mean price for each port and visualize prize distribution for each port.\n",
    "## C\t59.954144\n",
    "## Q\t13.276030\n",
    "## S\t27.079812\n",
    "\n",
    "\n",
    "## From the graph it can be seen that the vast majority of passengers embarked at Southampton port\n",
    "## and most of the tickets were sold to the second class, according to prices. The distribution of prices for passenger's tickets\n",
    "## who embarked at Cherbourg is distributed more smoothly and are closer to first class mean price. Almost all \n",
    "## tickets sold at Queenstown port are third class tickets.\n",
    "\n",
    "## Conclusion: the distribution of prices by port is in many ways similar to the distribution of prices by class\n",
    "\n",
    "average_fare_by_port = dataset[['Embarked', 'Fare']].groupby('Embarked').mean()\n",
    "ax = sns.kdeplot(data=dataset, x=dataset[\"Fare\"], hue='Embarked')\n",
    "ax.set_xlim(-30, 120)"
   ]
  },
  {
   "cell_type": "markdown",
   "metadata": {},
   "source": [
    "**Task 5** (0.5 points) <br/>\n",
    "The same question as in task 4 about correlation between *embarked* and *ticket priсe*."
   ]
  },
  {
   "cell_type": "code",
   "execution_count": 186,
   "metadata": {},
   "outputs": [
    {
     "data": {
      "text/plain": [
       "-0.5494996199439082"
      ]
     },
     "execution_count": 186,
     "metadata": {},
     "output_type": "execute_result"
    }
   ],
   "source": [
    "## Is there correlation between pclass and ticket price? (Yes, -0.54, higher the number of a class - less price)\n",
    "dataset['Pclass'].corr(dataset['Fare'])"
   ]
  },
  {
   "cell_type": "markdown",
   "metadata": {},
   "source": [
    "**Task 6** (0.5 points) <br/>\n",
    "Visualize age distribution for survived and not survived passengers separately and calculate the mean age for each class. Are they different? Provide the same visualization for males and females separately. Make conclusions about what you see on the plots"
   ]
  },
  {
   "cell_type": "code",
   "execution_count": 60,
   "metadata": {},
   "outputs": [
    {
     "name": "stdout",
     "output_type": "stream",
     "text": [
      "              Age\n",
      "Pclass           \n",
      "1       35.368197\n",
      "2       25.901566\n",
      "3       20.646118\n",
      "              Age\n",
      "Pclass           \n",
      "1       43.695312\n",
      "2       33.544444\n",
      "3       26.555556\n"
     ]
    },
    {
     "data": {
      "image/png": "[encoded data removed]",
      "text/plain": [
       "<Figure size 640x480 with 1 Axes>"
      ]
     },
     "metadata": {},
     "output_type": "display_data"
    }
   ],
   "source": [
    "## Survivors are on average two years younger, which may indicate that priority in rescue was given to children\n",
    "## This hypothesis is confirmed by the jump in the age of survivors relative to survivors aged 0 to 10\n",
    "\n",
    "## Mean age of survived passengers is less than mean age of non-survived passengers in every class\n",
    "## Also on average, the more expensive the class, the older the passengers\n",
    "\n",
    "survived = dataset[dataset['Survived'] == 1]\n",
    "not_survived = dataset[dataset['Survived'] == 0]\n",
    "\n",
    "average_survived_age_by_class = survived[['Age', 'Pclass']].groupby('Pclass').mean()\n",
    "average_not_survived_age_by_class = not_survived[['Age', 'Pclass']].groupby('Pclass').mean()\n",
    "\n",
    "sns.kdeplot(data=dataset, x='Age', hue='Survived')\n",
    "print(average_survived_age_by_class)\n",
    "print(average_not_survived_age_by_class)"
   ]
  },
  {
   "cell_type": "code",
   "execution_count": 67,
   "metadata": {},
   "outputs": [
    {
     "data": {
      "text/plain": [
       "<Axes: xlabel='Age', ylabel='Density'>"
      ]
     },
     "execution_count": 67,
     "metadata": {},
     "output_type": "execute_result"
    },
    {
     "data": {
      "image/png": "[encoded data removed]",
      "text/plain": [
       "<Figure size 400x300 with 1 Axes>"
      ]
     },
     "metadata": {},
     "output_type": "display_data"
    }
   ],
   "source": [
    "## The graphs for women and men differ very much, while there are many times more dead men than survivors,\n",
    "## for women the situation is exactly the opposite, which again suggests that women and children were rescued first\n",
    "\n",
    "plt.figure(figsize=(4, 3))\n",
    "\n",
    "male = dataset[dataset['Sex'] == 'male']\n",
    "female = dataset[dataset['Sex'] == 'female']\n",
    "\n",
    "sns.kdeplot(data=male, x='Age', hue='Survived')"
   ]
  },
  {
   "cell_type": "code",
   "execution_count": 68,
   "metadata": {},
   "outputs": [
    {
     "data": {
      "text/plain": [
       "<Axes: xlabel='Age', ylabel='Density'>"
      ]
     },
     "execution_count": 68,
     "metadata": {},
     "output_type": "execute_result"
    },
    {
     "data": {
      "image/png": "[encoded data removed]",
      "text/plain": [
       "<Figure size 400x300 with 1 Axes>"
      ]
     },
     "metadata": {},
     "output_type": "display_data"
    }
   ],
   "source": [
    "plt.figure(figsize=(4, 3))\n",
    "\n",
    "sns.kdeplot(data=female, x='Age', hue='Survived')"
   ]
  }
 ],
 "metadata": {
  "kernelspec": {
   "display_name": "Python 3 (ipykernel)",
   "language": "python",
   "name": "python3"
  },
  "language_info": {
   "codemirror_mode": {
    "name": "ipython",
    "version": 3
   },
   "file_extension": ".py",
   "mimetype": "text/x-python",
   "name": "python",
   "nbconvert_exporter": "python",
   "pygments_lexer": "ipython3",
   "version": "3.11.7"
  }
 },
 "nbformat": 4,
 "nbformat_minor": 4
}
